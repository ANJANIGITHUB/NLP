{
 "cells": [
  {
   "cell_type": "markdown",
   "metadata": {},
   "source": [
    "### Word2Vec \n",
    "#This helps to store the sementics information and relationship between each words which was not their in 'bag of words' or 'TD-IDF' technique\n",
    "#Each word is represented as vector or 32 or more dimensions intead of a single number"
   ]
  },
  {
   "cell_type": "code",
   "execution_count": 1,
   "metadata": {},
   "outputs": [],
   "source": [
    "import nltk\n",
    "from gensim.models import Word2Vec\n",
    "from nltk.corpus import stopwords\n",
    "import re"
   ]
  },
  {
   "cell_type": "code",
   "execution_count": 2,
   "metadata": {},
   "outputs": [],
   "source": [
    "paragraph = \"\"\"I have three visions for India. In 3000 years of our history, people from all over \n",
    "               the world have come and invaded us, captured our lands, conquered our minds. \n",
    "               From Alexander onwards, the Greeks, the Turks, the Moguls, the Portuguese, the British,\n",
    "               the French, the Dutch, all of them came and looted us, took over what was ours. \n",
    "               Yet we have not done this to any other nation. We have not conquered anyone. \n",
    "               We have not grabbed their land, their culture, \n",
    "               their history and tried to enforce our way of life on them. \n",
    "               Why? Because we respect the freedom of others.That is why my \n",
    "               first vision is that of freedom. I believe that India got its first vision of \n",
    "               this in 1857, when we started the War of Independence. It is this freedom that\n",
    "               we must protect and nurture and build on. If we are not free, no one will respect us.\n",
    "               My second vision for India’s development. For fifty years we have been a developing nation.\n",
    "               It is time we see ourselves as a developed nation. We are among the top 5 nations of the world\n",
    "               in terms of GDP. We have a 10 percent growth rate in most areas. Our poverty levels are falling.\n",
    "               Our achievements are being globally recognised today. Yet we lack the self-confidence to\n",
    "               see ourselves as a developed nation, self-reliant and self-assured. Isn’t this incorrect?\n",
    "               I have a third vision. India must stand up to the world. Because I believe that unless India \n",
    "               stands up to the world, no one will respect us. Only strength respects strength. We must be \n",
    "               strong not only as a military power but also as an economic power. Both must go hand-in-hand. \n",
    "               My good fortune was to have worked with three great minds. Dr. Vikram Sarabhai of the Dept. of \n",
    "               space, Professor Satish Dhawan, who succeeded him and Dr. Brahm Prakash, father of nuclear material.\n",
    "               I was lucky to have worked with all three of them closely and consider this the great opportunity of my life. \n",
    "               I see four milestones in my career\"\"\""
   ]
  },
  {
   "cell_type": "markdown",
   "metadata": {},
   "source": [
    "### Paragraph Preprocessing"
   ]
  },
  {
   "cell_type": "code",
   "execution_count": 3,
   "metadata": {},
   "outputs": [],
   "source": [
    "text=  re.sub(r'\\[[0-9]*\\]',' ',paragraph)"
   ]
  },
  {
   "cell_type": "code",
   "execution_count": 4,
   "metadata": {},
   "outputs": [],
   "source": [
    "text =re.sub(r'\\s+',' ',text)"
   ]
  },
  {
   "cell_type": "code",
   "execution_count": 5,
   "metadata": {},
   "outputs": [],
   "source": [
    "text = text.lower()"
   ]
  },
  {
   "cell_type": "code",
   "execution_count": 6,
   "metadata": {},
   "outputs": [],
   "source": [
    "text = re.sub(r'\\d+',' ',text)"
   ]
  },
  {
   "cell_type": "code",
   "execution_count": 7,
   "metadata": {},
   "outputs": [],
   "source": [
    "text = re.sub(r'\\s+',' ',text)"
   ]
  },
  {
   "cell_type": "code",
   "execution_count": 8,
   "metadata": {},
   "outputs": [
    {
     "data": {
      "text/plain": [
       "'i have three visions for india. in years of our history, people from all over the world have come and invaded us, captured our lands, conquered our minds. from alexander onwards, the greeks, the turks, the moguls, the portuguese, the british, the french, the dutch, all of them came and looted us, took over what was ours. yet we have not done this to any other nation. we have not conquered anyone. we have not grabbed their land, their culture, their history and tried to enforce our way of life on them. why? because we respect the freedom of others.that is why my first vision is that of freedom. i believe that india got its first vision of this in , when we started the war of independence. it is this freedom that we must protect and nurture and build on. if we are not free, no one will respect us. my second vision for india’s development. for fifty years we have been a developing nation. it is time we see ourselves as a developed nation. we are among the top nations of the world in terms of gdp. we have a percent growth rate in most areas. our poverty levels are falling. our achievements are being globally recognised today. yet we lack the self-confidence to see ourselves as a developed nation, self-reliant and self-assured. isn’t this incorrect? i have a third vision. india must stand up to the world. because i believe that unless india stands up to the world, no one will respect us. only strength respects strength. we must be strong not only as a military power but also as an economic power. both must go hand-in-hand. my good fortune was to have worked with three great minds. dr. vikram sarabhai of the dept. of space, professor satish dhawan, who succeeded him and dr. brahm prakash, father of nuclear material. i was lucky to have worked with all three of them closely and consider this the great opportunity of my life. i see four milestones in my career'"
      ]
     },
     "execution_count": 8,
     "metadata": {},
     "output_type": "execute_result"
    }
   ],
   "source": [
    "text"
   ]
  },
  {
   "cell_type": "markdown",
   "metadata": {},
   "source": [
    "### Convert it into sentenses"
   ]
  },
  {
   "cell_type": "code",
   "execution_count": 9,
   "metadata": {},
   "outputs": [],
   "source": [
    "sentenses=nltk.sent_tokenize(text)"
   ]
  },
  {
   "cell_type": "code",
   "execution_count": 10,
   "metadata": {},
   "outputs": [
    {
     "data": {
      "text/plain": [
       "['i have three visions for india.',\n",
       " 'in years of our history, people from all over the world have come and invaded us, captured our lands, conquered our minds.',\n",
       " 'from alexander onwards, the greeks, the turks, the moguls, the portuguese, the british, the french, the dutch, all of them came and looted us, took over what was ours.',\n",
       " 'yet we have not done this to any other nation.',\n",
       " 'we have not conquered anyone.',\n",
       " 'we have not grabbed their land, their culture, their history and tried to enforce our way of life on them.',\n",
       " 'why?',\n",
       " 'because we respect the freedom of others.that is why my first vision is that of freedom.',\n",
       " 'i believe that india got its first vision of this in , when we started the war of independence.',\n",
       " 'it is this freedom that we must protect and nurture and build on.',\n",
       " 'if we are not free, no one will respect us.',\n",
       " 'my second vision for india’s development.',\n",
       " 'for fifty years we have been a developing nation.',\n",
       " 'it is time we see ourselves as a developed nation.',\n",
       " 'we are among the top nations of the world in terms of gdp.',\n",
       " 'we have a percent growth rate in most areas.',\n",
       " 'our poverty levels are falling.',\n",
       " 'our achievements are being globally recognised today.',\n",
       " 'yet we lack the self-confidence to see ourselves as a developed nation, self-reliant and self-assured.',\n",
       " 'isn’t this incorrect?',\n",
       " 'i have a third vision.',\n",
       " 'india must stand up to the world.',\n",
       " 'because i believe that unless india stands up to the world, no one will respect us.',\n",
       " 'only strength respects strength.',\n",
       " 'we must be strong not only as a military power but also as an economic power.',\n",
       " 'both must go hand-in-hand.',\n",
       " 'my good fortune was to have worked with three great minds.',\n",
       " 'dr. vikram sarabhai of the dept.',\n",
       " 'of space, professor satish dhawan, who succeeded him and dr. brahm prakash, father of nuclear material.',\n",
       " 'i was lucky to have worked with all three of them closely and consider this the great opportunity of my life.',\n",
       " 'i see four milestones in my career']"
      ]
     },
     "execution_count": 10,
     "metadata": {},
     "output_type": "execute_result"
    }
   ],
   "source": [
    "sentenses"
   ]
  },
  {
   "cell_type": "code",
   "execution_count": 11,
   "metadata": {},
   "outputs": [],
   "source": [
    "sentenses=[nltk.word_tokenize(sentense) for sentense in sentenses]"
   ]
  },
  {
   "cell_type": "code",
   "execution_count": 13,
   "metadata": {},
   "outputs": [
    {
     "data": {
      "text/plain": [
       "[['i', 'have', 'three', 'visions', 'for', 'india', '.'],\n",
       " ['in',\n",
       "  'years',\n",
       "  'of',\n",
       "  'our',\n",
       "  'history',\n",
       "  ',',\n",
       "  'people',\n",
       "  'from',\n",
       "  'all',\n",
       "  'over',\n",
       "  'the',\n",
       "  'world',\n",
       "  'have',\n",
       "  'come',\n",
       "  'and',\n",
       "  'invaded',\n",
       "  'us',\n",
       "  ',',\n",
       "  'captured',\n",
       "  'our',\n",
       "  'lands',\n",
       "  ',',\n",
       "  'conquered',\n",
       "  'our',\n",
       "  'minds',\n",
       "  '.'],\n",
       " ['from',\n",
       "  'alexander',\n",
       "  'onwards',\n",
       "  ',',\n",
       "  'the',\n",
       "  'greeks',\n",
       "  ',',\n",
       "  'the',\n",
       "  'turks',\n",
       "  ',',\n",
       "  'the',\n",
       "  'moguls',\n",
       "  ',',\n",
       "  'the',\n",
       "  'portuguese',\n",
       "  ',',\n",
       "  'the',\n",
       "  'british',\n",
       "  ',',\n",
       "  'the',\n",
       "  'french',\n",
       "  ',',\n",
       "  'the',\n",
       "  'dutch',\n",
       "  ',',\n",
       "  'all',\n",
       "  'of',\n",
       "  'them',\n",
       "  'came',\n",
       "  'and',\n",
       "  'looted',\n",
       "  'us',\n",
       "  ',',\n",
       "  'took',\n",
       "  'over',\n",
       "  'what',\n",
       "  'was',\n",
       "  'ours',\n",
       "  '.'],\n",
       " ['yet',\n",
       "  'we',\n",
       "  'have',\n",
       "  'not',\n",
       "  'done',\n",
       "  'this',\n",
       "  'to',\n",
       "  'any',\n",
       "  'other',\n",
       "  'nation',\n",
       "  '.'],\n",
       " ['we', 'have', 'not', 'conquered', 'anyone', '.'],\n",
       " ['we',\n",
       "  'have',\n",
       "  'not',\n",
       "  'grabbed',\n",
       "  'their',\n",
       "  'land',\n",
       "  ',',\n",
       "  'their',\n",
       "  'culture',\n",
       "  ',',\n",
       "  'their',\n",
       "  'history',\n",
       "  'and',\n",
       "  'tried',\n",
       "  'to',\n",
       "  'enforce',\n",
       "  'our',\n",
       "  'way',\n",
       "  'of',\n",
       "  'life',\n",
       "  'on',\n",
       "  'them',\n",
       "  '.'],\n",
       " ['why', '?'],\n",
       " ['because',\n",
       "  'we',\n",
       "  'respect',\n",
       "  'the',\n",
       "  'freedom',\n",
       "  'of',\n",
       "  'others.that',\n",
       "  'is',\n",
       "  'why',\n",
       "  'my',\n",
       "  'first',\n",
       "  'vision',\n",
       "  'is',\n",
       "  'that',\n",
       "  'of',\n",
       "  'freedom',\n",
       "  '.'],\n",
       " ['i',\n",
       "  'believe',\n",
       "  'that',\n",
       "  'india',\n",
       "  'got',\n",
       "  'its',\n",
       "  'first',\n",
       "  'vision',\n",
       "  'of',\n",
       "  'this',\n",
       "  'in',\n",
       "  ',',\n",
       "  'when',\n",
       "  'we',\n",
       "  'started',\n",
       "  'the',\n",
       "  'war',\n",
       "  'of',\n",
       "  'independence',\n",
       "  '.'],\n",
       " ['it',\n",
       "  'is',\n",
       "  'this',\n",
       "  'freedom',\n",
       "  'that',\n",
       "  'we',\n",
       "  'must',\n",
       "  'protect',\n",
       "  'and',\n",
       "  'nurture',\n",
       "  'and',\n",
       "  'build',\n",
       "  'on',\n",
       "  '.'],\n",
       " ['if',\n",
       "  'we',\n",
       "  'are',\n",
       "  'not',\n",
       "  'free',\n",
       "  ',',\n",
       "  'no',\n",
       "  'one',\n",
       "  'will',\n",
       "  'respect',\n",
       "  'us',\n",
       "  '.'],\n",
       " ['my', 'second', 'vision', 'for', 'india', '’', 's', 'development', '.'],\n",
       " ['for',\n",
       "  'fifty',\n",
       "  'years',\n",
       "  'we',\n",
       "  'have',\n",
       "  'been',\n",
       "  'a',\n",
       "  'developing',\n",
       "  'nation',\n",
       "  '.'],\n",
       " ['it',\n",
       "  'is',\n",
       "  'time',\n",
       "  'we',\n",
       "  'see',\n",
       "  'ourselves',\n",
       "  'as',\n",
       "  'a',\n",
       "  'developed',\n",
       "  'nation',\n",
       "  '.'],\n",
       " ['we',\n",
       "  'are',\n",
       "  'among',\n",
       "  'the',\n",
       "  'top',\n",
       "  'nations',\n",
       "  'of',\n",
       "  'the',\n",
       "  'world',\n",
       "  'in',\n",
       "  'terms',\n",
       "  'of',\n",
       "  'gdp',\n",
       "  '.'],\n",
       " ['we', 'have', 'a', 'percent', 'growth', 'rate', 'in', 'most', 'areas', '.'],\n",
       " ['our', 'poverty', 'levels', 'are', 'falling', '.'],\n",
       " ['our',\n",
       "  'achievements',\n",
       "  'are',\n",
       "  'being',\n",
       "  'globally',\n",
       "  'recognised',\n",
       "  'today',\n",
       "  '.'],\n",
       " ['yet',\n",
       "  'we',\n",
       "  'lack',\n",
       "  'the',\n",
       "  'self-confidence',\n",
       "  'to',\n",
       "  'see',\n",
       "  'ourselves',\n",
       "  'as',\n",
       "  'a',\n",
       "  'developed',\n",
       "  'nation',\n",
       "  ',',\n",
       "  'self-reliant',\n",
       "  'and',\n",
       "  'self-assured',\n",
       "  '.'],\n",
       " ['isn', '’', 't', 'this', 'incorrect', '?'],\n",
       " ['i', 'have', 'a', 'third', 'vision', '.'],\n",
       " ['india', 'must', 'stand', 'up', 'to', 'the', 'world', '.'],\n",
       " ['because',\n",
       "  'i',\n",
       "  'believe',\n",
       "  'that',\n",
       "  'unless',\n",
       "  'india',\n",
       "  'stands',\n",
       "  'up',\n",
       "  'to',\n",
       "  'the',\n",
       "  'world',\n",
       "  ',',\n",
       "  'no',\n",
       "  'one',\n",
       "  'will',\n",
       "  'respect',\n",
       "  'us',\n",
       "  '.'],\n",
       " ['only', 'strength', 'respects', 'strength', '.'],\n",
       " ['we',\n",
       "  'must',\n",
       "  'be',\n",
       "  'strong',\n",
       "  'not',\n",
       "  'only',\n",
       "  'as',\n",
       "  'a',\n",
       "  'military',\n",
       "  'power',\n",
       "  'but',\n",
       "  'also',\n",
       "  'as',\n",
       "  'an',\n",
       "  'economic',\n",
       "  'power',\n",
       "  '.'],\n",
       " ['both', 'must', 'go', 'hand-in-hand', '.'],\n",
       " ['my',\n",
       "  'good',\n",
       "  'fortune',\n",
       "  'was',\n",
       "  'to',\n",
       "  'have',\n",
       "  'worked',\n",
       "  'with',\n",
       "  'three',\n",
       "  'great',\n",
       "  'minds',\n",
       "  '.'],\n",
       " ['dr.', 'vikram', 'sarabhai', 'of', 'the', 'dept', '.'],\n",
       " ['of',\n",
       "  'space',\n",
       "  ',',\n",
       "  'professor',\n",
       "  'satish',\n",
       "  'dhawan',\n",
       "  ',',\n",
       "  'who',\n",
       "  'succeeded',\n",
       "  'him',\n",
       "  'and',\n",
       "  'dr.',\n",
       "  'brahm',\n",
       "  'prakash',\n",
       "  ',',\n",
       "  'father',\n",
       "  'of',\n",
       "  'nuclear',\n",
       "  'material',\n",
       "  '.'],\n",
       " ['i',\n",
       "  'was',\n",
       "  'lucky',\n",
       "  'to',\n",
       "  'have',\n",
       "  'worked',\n",
       "  'with',\n",
       "  'all',\n",
       "  'three',\n",
       "  'of',\n",
       "  'them',\n",
       "  'closely',\n",
       "  'and',\n",
       "  'consider',\n",
       "  'this',\n",
       "  'the',\n",
       "  'great',\n",
       "  'opportunity',\n",
       "  'of',\n",
       "  'my',\n",
       "  'life',\n",
       "  '.'],\n",
       " ['i', 'see', 'four', 'milestones', 'in', 'my', 'career']]"
      ]
     },
     "execution_count": 13,
     "metadata": {},
     "output_type": "execute_result"
    }
   ],
   "source": [
    "sentenses"
   ]
  },
  {
   "cell_type": "markdown",
   "metadata": {},
   "source": [
    "### Removing all the stop words from all the sentenses"
   ]
  },
  {
   "cell_type": "code",
   "execution_count": 14,
   "metadata": {},
   "outputs": [],
   "source": [
    "for i in range(len(sentenses)):\n",
    "    sentenses[i]=[word for word in sentenses[i] if word not in stopwords.words('english') ]\n"
   ]
  },
  {
   "cell_type": "code",
   "execution_count": 15,
   "metadata": {},
   "outputs": [
    {
     "name": "stdout",
     "output_type": "stream",
     "text": [
      "[['three', 'visions', 'india', '.'], ['years', 'history', ',', 'people', 'world', 'come', 'invaded', 'us', ',', 'captured', 'lands', ',', 'conquered', 'minds', '.'], ['alexander', 'onwards', ',', 'greeks', ',', 'turks', ',', 'moguls', ',', 'portuguese', ',', 'british', ',', 'french', ',', 'dutch', ',', 'came', 'looted', 'us', ',', 'took', '.'], ['yet', 'done', 'nation', '.'], ['conquered', 'anyone', '.'], ['grabbed', 'land', ',', 'culture', ',', 'history', 'tried', 'enforce', 'way', 'life', '.'], ['?'], ['respect', 'freedom', 'others.that', 'first', 'vision', 'freedom', '.'], ['believe', 'india', 'got', 'first', 'vision', ',', 'started', 'war', 'independence', '.'], ['freedom', 'must', 'protect', 'nurture', 'build', '.'], ['free', ',', 'one', 'respect', 'us', '.'], ['second', 'vision', 'india', '’', 'development', '.'], ['fifty', 'years', 'developing', 'nation', '.'], ['time', 'see', 'developed', 'nation', '.'], ['among', 'top', 'nations', 'world', 'terms', 'gdp', '.'], ['percent', 'growth', 'rate', 'areas', '.'], ['poverty', 'levels', 'falling', '.'], ['achievements', 'globally', 'recognised', 'today', '.'], ['yet', 'lack', 'self-confidence', 'see', 'developed', 'nation', ',', 'self-reliant', 'self-assured', '.'], ['’', 'incorrect', '?'], ['third', 'vision', '.'], ['india', 'must', 'stand', 'world', '.'], ['believe', 'unless', 'india', 'stands', 'world', ',', 'one', 'respect', 'us', '.'], ['strength', 'respects', 'strength', '.'], ['must', 'strong', 'military', 'power', 'also', 'economic', 'power', '.'], ['must', 'go', 'hand-in-hand', '.'], ['good', 'fortune', 'worked', 'three', 'great', 'minds', '.'], ['dr.', 'vikram', 'sarabhai', 'dept', '.'], ['space', ',', 'professor', 'satish', 'dhawan', ',', 'succeeded', 'dr.', 'brahm', 'prakash', ',', 'father', 'nuclear', 'material', '.'], ['lucky', 'worked', 'three', 'closely', 'consider', 'great', 'opportunity', 'life', '.'], ['see', 'four', 'milestones', 'career']]\n"
     ]
    }
   ],
   "source": [
    "print(sentenses)"
   ]
  },
  {
   "cell_type": "markdown",
   "metadata": {},
   "source": [
    "### Apply Word2Vec"
   ]
  },
  {
   "cell_type": "code",
   "execution_count": 16,
   "metadata": {},
   "outputs": [],
   "source": [
    "model=Word2Vec(sentenses,min_count=1)"
   ]
  },
  {
   "cell_type": "markdown",
   "metadata": {},
   "source": [
    "### Models Vocab"
   ]
  },
  {
   "cell_type": "code",
   "execution_count": 17,
   "metadata": {},
   "outputs": [],
   "source": [
    "new_word=model.wv.vocab"
   ]
  },
  {
   "cell_type": "code",
   "execution_count": 18,
   "metadata": {},
   "outputs": [
    {
     "data": {
      "text/plain": [
       "{'three': <gensim.models.keyedvectors.Vocab at 0x1ff7c8ad8d0>,\n",
       " 'visions': <gensim.models.keyedvectors.Vocab at 0x1ff7edac860>,\n",
       " 'india': <gensim.models.keyedvectors.Vocab at 0x1ff7edac0f0>,\n",
       " '.': <gensim.models.keyedvectors.Vocab at 0x1ff7edacc50>,\n",
       " 'years': <gensim.models.keyedvectors.Vocab at 0x1ff7edacda0>,\n",
       " 'history': <gensim.models.keyedvectors.Vocab at 0x1ff7edac8d0>,\n",
       " ',': <gensim.models.keyedvectors.Vocab at 0x1ff7edacba8>,\n",
       " 'people': <gensim.models.keyedvectors.Vocab at 0x1ff7edac898>,\n",
       " 'world': <gensim.models.keyedvectors.Vocab at 0x1ff7edaca20>,\n",
       " 'come': <gensim.models.keyedvectors.Vocab at 0x1ff7edacdd8>,\n",
       " 'invaded': <gensim.models.keyedvectors.Vocab at 0x1ff7edac080>,\n",
       " 'us': <gensim.models.keyedvectors.Vocab at 0x1ff7edacc88>,\n",
       " 'captured': <gensim.models.keyedvectors.Vocab at 0x1ff7edaaf98>,\n",
       " 'lands': <gensim.models.keyedvectors.Vocab at 0x1ff7edaafd0>,\n",
       " 'conquered': <gensim.models.keyedvectors.Vocab at 0x1ff7edaabe0>,\n",
       " 'minds': <gensim.models.keyedvectors.Vocab at 0x1ff7edaacf8>,\n",
       " 'alexander': <gensim.models.keyedvectors.Vocab at 0x1ff7edaaba8>,\n",
       " 'onwards': <gensim.models.keyedvectors.Vocab at 0x1ff7edaac88>,\n",
       " 'greeks': <gensim.models.keyedvectors.Vocab at 0x1ff7edaad30>,\n",
       " 'turks': <gensim.models.keyedvectors.Vocab at 0x1ff7edaada0>,\n",
       " 'moguls': <gensim.models.keyedvectors.Vocab at 0x1ff7edaac50>,\n",
       " 'portuguese': <gensim.models.keyedvectors.Vocab at 0x1ff7edaadd8>,\n",
       " 'british': <gensim.models.keyedvectors.Vocab at 0x1ff7edaae10>,\n",
       " 'french': <gensim.models.keyedvectors.Vocab at 0x1ff7edaae80>,\n",
       " 'dutch': <gensim.models.keyedvectors.Vocab at 0x1ff7edaaeb8>,\n",
       " 'came': <gensim.models.keyedvectors.Vocab at 0x1ff7edaa9e8>,\n",
       " 'looted': <gensim.models.keyedvectors.Vocab at 0x1ff7edaa198>,\n",
       " 'took': <gensim.models.keyedvectors.Vocab at 0x1ff7edaa320>,\n",
       " 'yet': <gensim.models.keyedvectors.Vocab at 0x1ff7edaa588>,\n",
       " 'done': <gensim.models.keyedvectors.Vocab at 0x1ff7edaa668>,\n",
       " 'nation': <gensim.models.keyedvectors.Vocab at 0x1ff7edaa2b0>,\n",
       " 'anyone': <gensim.models.keyedvectors.Vocab at 0x1ff7edaa390>,\n",
       " 'grabbed': <gensim.models.keyedvectors.Vocab at 0x1ff7edaaac8>,\n",
       " 'land': <gensim.models.keyedvectors.Vocab at 0x1ff7edaa240>,\n",
       " 'culture': <gensim.models.keyedvectors.Vocab at 0x1ff7edaa3c8>,\n",
       " 'tried': <gensim.models.keyedvectors.Vocab at 0x1ff7edaa278>,\n",
       " 'enforce': <gensim.models.keyedvectors.Vocab at 0x1ff7edaa160>,\n",
       " 'way': <gensim.models.keyedvectors.Vocab at 0x1ff7edaa080>,\n",
       " 'life': <gensim.models.keyedvectors.Vocab at 0x1ff7edaa470>,\n",
       " '?': <gensim.models.keyedvectors.Vocab at 0x1ff7edaa1d0>,\n",
       " 'respect': <gensim.models.keyedvectors.Vocab at 0x1ff7edaa518>,\n",
       " 'freedom': <gensim.models.keyedvectors.Vocab at 0x1ff7edaa7f0>,\n",
       " 'others.that': <gensim.models.keyedvectors.Vocab at 0x1ff7edaa5c0>,\n",
       " 'first': <gensim.models.keyedvectors.Vocab at 0x1ff7edaa860>,\n",
       " 'vision': <gensim.models.keyedvectors.Vocab at 0x1ff7edaa7b8>,\n",
       " 'believe': <gensim.models.keyedvectors.Vocab at 0x1ff7edaa898>,\n",
       " 'got': <gensim.models.keyedvectors.Vocab at 0x1ff7edaa940>,\n",
       " 'started': <gensim.models.keyedvectors.Vocab at 0x1ff7edaa5f8>,\n",
       " 'war': <gensim.models.keyedvectors.Vocab at 0x1ff7edaab70>,\n",
       " 'independence': <gensim.models.keyedvectors.Vocab at 0x1ff7ed9d438>,\n",
       " 'must': <gensim.models.keyedvectors.Vocab at 0x1ff7ed9d710>,\n",
       " 'protect': <gensim.models.keyedvectors.Vocab at 0x1ff7ed9d6d8>,\n",
       " 'nurture': <gensim.models.keyedvectors.Vocab at 0x1ff7ed9def0>,\n",
       " 'build': <gensim.models.keyedvectors.Vocab at 0x1ff7ed9dbe0>,\n",
       " 'free': <gensim.models.keyedvectors.Vocab at 0x1ff7ed9df60>,\n",
       " 'one': <gensim.models.keyedvectors.Vocab at 0x1ff7ed9d630>,\n",
       " 'second': <gensim.models.keyedvectors.Vocab at 0x1ff7eebf860>,\n",
       " '’': <gensim.models.keyedvectors.Vocab at 0x1ff7eebf438>,\n",
       " 'development': <gensim.models.keyedvectors.Vocab at 0x1ff7eebf160>,\n",
       " 'fifty': <gensim.models.keyedvectors.Vocab at 0x1ff7eebf048>,\n",
       " 'developing': <gensim.models.keyedvectors.Vocab at 0x1ff7eebfb38>,\n",
       " 'time': <gensim.models.keyedvectors.Vocab at 0x1ff7eebf5f8>,\n",
       " 'see': <gensim.models.keyedvectors.Vocab at 0x1ff7eebf6a0>,\n",
       " 'developed': <gensim.models.keyedvectors.Vocab at 0x1ff7eebf6d8>,\n",
       " 'among': <gensim.models.keyedvectors.Vocab at 0x1ff7eebfba8>,\n",
       " 'top': <gensim.models.keyedvectors.Vocab at 0x1ff7eebf630>,\n",
       " 'nations': <gensim.models.keyedvectors.Vocab at 0x1ff7eebf748>,\n",
       " 'terms': <gensim.models.keyedvectors.Vocab at 0x1ff7eebf588>,\n",
       " 'gdp': <gensim.models.keyedvectors.Vocab at 0x1ff7eebf4a8>,\n",
       " 'percent': <gensim.models.keyedvectors.Vocab at 0x1ff7eebf550>,\n",
       " 'growth': <gensim.models.keyedvectors.Vocab at 0x1ff7eebf4e0>,\n",
       " 'rate': <gensim.models.keyedvectors.Vocab at 0x1ff7eebf080>,\n",
       " 'areas': <gensim.models.keyedvectors.Vocab at 0x1ff7eebf1d0>,\n",
       " 'poverty': <gensim.models.keyedvectors.Vocab at 0x1ff7eebfc18>,\n",
       " 'levels': <gensim.models.keyedvectors.Vocab at 0x1ff7eebf320>,\n",
       " 'falling': <gensim.models.keyedvectors.Vocab at 0x1ff7eebf3c8>,\n",
       " 'achievements': <gensim.models.keyedvectors.Vocab at 0x1ff7eebf2e8>,\n",
       " 'globally': <gensim.models.keyedvectors.Vocab at 0x1ff7eebf390>,\n",
       " 'recognised': <gensim.models.keyedvectors.Vocab at 0x1ff7eebf240>,\n",
       " 'today': <gensim.models.keyedvectors.Vocab at 0x1ff7eebf358>,\n",
       " 'lack': <gensim.models.keyedvectors.Vocab at 0x1ff7eebf400>,\n",
       " 'self-confidence': <gensim.models.keyedvectors.Vocab at 0x1ff7eebf2b0>,\n",
       " 'self-reliant': <gensim.models.keyedvectors.Vocab at 0x1ff7eebf208>,\n",
       " 'self-assured': <gensim.models.keyedvectors.Vocab at 0x1ff7eebf0b8>,\n",
       " 'incorrect': <gensim.models.keyedvectors.Vocab at 0x1ff7eebf898>,\n",
       " 'third': <gensim.models.keyedvectors.Vocab at 0x1ff7eebf780>,\n",
       " 'stand': <gensim.models.keyedvectors.Vocab at 0x1ff7eebf978>,\n",
       " 'unless': <gensim.models.keyedvectors.Vocab at 0x1ff7eebf198>,\n",
       " 'stands': <gensim.models.keyedvectors.Vocab at 0x1ff7eebfac8>,\n",
       " 'strength': <gensim.models.keyedvectors.Vocab at 0x1ff7eebf828>,\n",
       " 'respects': <gensim.models.keyedvectors.Vocab at 0x1ff7eebfd68>,\n",
       " 'strong': <gensim.models.keyedvectors.Vocab at 0x1ff7eebfdd8>,\n",
       " 'military': <gensim.models.keyedvectors.Vocab at 0x1ff7eebfef0>,\n",
       " 'power': <gensim.models.keyedvectors.Vocab at 0x1ff7eebffd0>,\n",
       " 'also': <gensim.models.keyedvectors.Vocab at 0x1ff7eebf128>,\n",
       " 'economic': <gensim.models.keyedvectors.Vocab at 0x1ff7eebf470>,\n",
       " 'go': <gensim.models.keyedvectors.Vocab at 0x1ff7eebfe10>,\n",
       " 'hand-in-hand': <gensim.models.keyedvectors.Vocab at 0x1ff7eebff28>,\n",
       " 'good': <gensim.models.keyedvectors.Vocab at 0x1ff7eebf278>,\n",
       " 'fortune': <gensim.models.keyedvectors.Vocab at 0x1ff7eebff60>,\n",
       " 'worked': <gensim.models.keyedvectors.Vocab at 0x1ff7eebfe80>,\n",
       " 'great': <gensim.models.keyedvectors.Vocab at 0x1ff7eebfb00>,\n",
       " 'dr.': <gensim.models.keyedvectors.Vocab at 0x1ff7eebff98>,\n",
       " 'vikram': <gensim.models.keyedvectors.Vocab at 0x1ff7eebfe48>,\n",
       " 'sarabhai': <gensim.models.keyedvectors.Vocab at 0x1ff7eebfeb8>,\n",
       " 'dept': <gensim.models.keyedvectors.Vocab at 0x1ff7eebf710>,\n",
       " 'space': <gensim.models.keyedvectors.Vocab at 0x1ff7eebf518>,\n",
       " 'professor': <gensim.models.keyedvectors.Vocab at 0x1ff79f26a20>,\n",
       " 'satish': <gensim.models.keyedvectors.Vocab at 0x1ff79f265f8>,\n",
       " 'dhawan': <gensim.models.keyedvectors.Vocab at 0x1ff7eda6128>,\n",
       " 'succeeded': <gensim.models.keyedvectors.Vocab at 0x1ff7eda6208>,\n",
       " 'brahm': <gensim.models.keyedvectors.Vocab at 0x1ff7eda6240>,\n",
       " 'prakash': <gensim.models.keyedvectors.Vocab at 0x1ff7eda64e0>,\n",
       " 'father': <gensim.models.keyedvectors.Vocab at 0x1ff7eda62e8>,\n",
       " 'nuclear': <gensim.models.keyedvectors.Vocab at 0x1ff7eda6400>,\n",
       " 'material': <gensim.models.keyedvectors.Vocab at 0x1ff7eda6588>,\n",
       " 'lucky': <gensim.models.keyedvectors.Vocab at 0x1ff7eda61d0>,\n",
       " 'closely': <gensim.models.keyedvectors.Vocab at 0x1ff7eda6710>,\n",
       " 'consider': <gensim.models.keyedvectors.Vocab at 0x1ff7eda6940>,\n",
       " 'opportunity': <gensim.models.keyedvectors.Vocab at 0x1ff7eda6978>,\n",
       " 'four': <gensim.models.keyedvectors.Vocab at 0x1ff7eda6c18>,\n",
       " 'milestones': <gensim.models.keyedvectors.Vocab at 0x1ff7eda6e48>,\n",
       " 'career': <gensim.models.keyedvectors.Vocab at 0x1ff7eda6fd0>}"
      ]
     },
     "execution_count": 18,
     "metadata": {},
     "output_type": "execute_result"
    }
   ],
   "source": [
    "new_word"
   ]
  },
  {
   "cell_type": "markdown",
   "metadata": {},
   "source": [
    "### Check Vector of any particular word"
   ]
  },
  {
   "cell_type": "code",
   "execution_count": 19,
   "metadata": {},
   "outputs": [],
   "source": [
    "one_new_word=model.wv['india']\n"
   ]
  },
  {
   "cell_type": "markdown",
   "metadata": {},
   "source": [
    "### Each word is represnted in vectors of 100 dimensions"
   ]
  },
  {
   "cell_type": "code",
   "execution_count": 20,
   "metadata": {},
   "outputs": [
    {
     "data": {
      "text/plain": [
       "array([-3.2157742e-03, -2.1685746e-03, -3.4711419e-03, -2.4484659e-03,\n",
       "       -3.5070067e-03,  4.8018419e-03,  3.6733730e-03,  3.5550210e-03,\n",
       "        2.2520048e-03, -3.2310036e-03, -1.7887123e-03, -5.2823714e-04,\n",
       "       -1.3355131e-03,  4.8187431e-03,  4.8312009e-03,  4.9267500e-03,\n",
       "       -1.0269566e-03, -1.4782686e-03, -3.2971480e-03,  3.3210402e-03,\n",
       "        4.6019452e-03,  2.9238667e-03,  6.9554150e-04, -4.9467776e-03,\n",
       "       -2.4894187e-03,  1.1709742e-03, -3.0857685e-03,  2.0893585e-04,\n",
       "       -6.6826795e-04, -4.4979244e-03,  3.8669864e-03, -3.9500324e-03,\n",
       "       -1.6572690e-03,  1.6226581e-03,  1.2074833e-04,  2.9090196e-03,\n",
       "        3.8149613e-03,  1.3756013e-04,  3.1251279e-03, -5.3850800e-04,\n",
       "       -1.9410523e-03, -4.8093842e-03, -4.7518229e-03, -8.6093741e-04,\n",
       "        4.5855367e-03, -3.1129643e-03, -4.5330585e-03,  1.1531335e-03,\n",
       "        1.7231662e-03,  1.6103045e-04, -2.4563938e-03,  9.6706892e-05,\n",
       "       -3.7729591e-03, -2.1766440e-03, -2.9012894e-03,  5.8900093e-04,\n",
       "       -3.9124400e-03,  4.4451617e-03, -3.8368856e-03,  2.6245756e-04,\n",
       "       -1.6333873e-03,  7.2732067e-04, -3.2470322e-03,  3.2002791e-03,\n",
       "        2.4508226e-03, -4.3414840e-03,  2.9036500e-03, -4.5464477e-03,\n",
       "       -3.3097963e-03,  4.6598914e-04,  4.0407213e-03, -4.4057225e-03,\n",
       "       -4.6290661e-04, -2.1624768e-03, -4.6434742e-03,  9.9318370e-04,\n",
       "       -3.2691984e-03,  2.4297452e-03,  1.5929958e-04,  5.3303613e-04,\n",
       "       -4.2741587e-03,  3.4579739e-03, -3.5396956e-03,  1.3998338e-03,\n",
       "       -3.0496328e-03, -2.1724538e-03, -1.8207907e-03, -3.9052668e-03,\n",
       "        7.5933564e-04, -3.5742743e-04,  2.1980929e-03,  2.7516931e-03,\n",
       "        1.0764487e-03,  2.1337557e-03,  4.5585670e-03, -4.8748190e-03,\n",
       "       -4.7899699e-03, -4.2783516e-04,  1.8819822e-03, -4.2629628e-03],\n",
       "      dtype=float32)"
      ]
     },
     "execution_count": 20,
     "metadata": {},
     "output_type": "execute_result"
    }
   ],
   "source": [
    "one_new_word"
   ]
  },
  {
   "cell_type": "code",
   "execution_count": 21,
   "metadata": {},
   "outputs": [],
   "source": [
    "# Most similar words\n",
    "similar = model.wv.most_similar('india')"
   ]
  },
  {
   "cell_type": "markdown",
   "metadata": {},
   "source": [
    "### Below will tell which are the other words in our paragraph with are related to 'india' word"
   ]
  },
  {
   "cell_type": "code",
   "execution_count": 22,
   "metadata": {},
   "outputs": [
    {
     "data": {
      "text/plain": [
       "[('way', 0.3814733624458313),\n",
       " ('?', 0.30249643325805664),\n",
       " ('four', 0.2817019522190094),\n",
       " ('years', 0.25082919001579285),\n",
       " ('grabbed', 0.25049707293510437),\n",
       " ('lands', 0.1915106624364853),\n",
       " ('prakash', 0.19083727896213531),\n",
       " ('great', 0.18947693705558777),\n",
       " ('unless', 0.17176902294158936),\n",
       " ('visions', 0.17037968337535858)]"
      ]
     },
     "execution_count": 22,
     "metadata": {},
     "output_type": "execute_result"
    }
   ],
   "source": [
    "similar"
   ]
  },
  {
   "cell_type": "code",
   "execution_count": null,
   "metadata": {},
   "outputs": [],
   "source": []
  }
 ],
 "metadata": {
  "kernelspec": {
   "display_name": "Python 3",
   "language": "python",
   "name": "python3"
  },
  "language_info": {
   "codemirror_mode": {
    "name": "ipython",
    "version": 3
   },
   "file_extension": ".py",
   "mimetype": "text/x-python",
   "name": "python",
   "nbconvert_exporter": "python",
   "pygments_lexer": "ipython3",
   "version": "3.7.3"
  }
 },
 "nbformat": 4,
 "nbformat_minor": 4
}
