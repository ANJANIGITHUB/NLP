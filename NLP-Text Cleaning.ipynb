{
 "cells": [
  {
   "cell_type": "code",
   "execution_count": 1,
   "metadata": {},
   "outputs": [],
   "source": [
    "import warnings\n",
    "import numpy as np\n",
    "import pandas as pd\n",
    "import nltk\n",
    "warnings.filterwarnings('ignore')"
   ]
  },
  {
   "cell_type": "code",
   "execution_count": 2,
   "metadata": {},
   "outputs": [],
   "source": [
    "raw_docs=[\"I am writing very basic english sentenses\",\n",
    "         \"I'm just writing for demo PURPOSE to make audiance understand the basics.\",\n",
    "         \"The point is to _learn how it _works on #simple # data.\"]"
   ]
  },
  {
   "cell_type": "markdown",
   "metadata": {},
   "source": [
    "### Convert to lower case"
   ]
  },
  {
   "cell_type": "code",
   "execution_count": 3,
   "metadata": {},
   "outputs": [],
   "source": [
    "new_raw_docs=[]\n",
    "import string\n",
    "raw_docs=[word.lower() for word in raw_docs]\n",
    "    "
   ]
  },
  {
   "cell_type": "code",
   "execution_count": 4,
   "metadata": {},
   "outputs": [
    {
     "data": {
      "text/plain": [
       "['i am writing very basic english sentenses',\n",
       " \"i'm just writing for demo purpose to make audiance understand the basics.\",\n",
       " 'the point is to _learn how it _works on #simple # data.']"
      ]
     },
     "execution_count": 4,
     "metadata": {},
     "output_type": "execute_result"
    }
   ],
   "source": [
    "raw_docs"
   ]
  },
  {
   "cell_type": "markdown",
   "metadata": {},
   "source": [
    "### Tokenizer"
   ]
  },
  {
   "cell_type": "code",
   "execution_count": 5,
   "metadata": {},
   "outputs": [],
   "source": [
    "from nltk.tokenize import word_tokenize,sent_tokenize"
   ]
  },
  {
   "cell_type": "code",
   "execution_count": 6,
   "metadata": {},
   "outputs": [],
   "source": [
    "raw_docs_word=[word_tokenize(word) for word in raw_docs]"
   ]
  },
  {
   "cell_type": "code",
   "execution_count": 7,
   "metadata": {},
   "outputs": [
    {
     "name": "stdout",
     "output_type": "stream",
     "text": [
      "[['i', 'am', 'writing', 'very', 'basic', 'english', 'sentenses'], ['i', \"'m\", 'just', 'writing', 'for', 'demo', 'purpose', 'to', 'make', 'audiance', 'understand', 'the', 'basics', '.'], ['the', 'point', 'is', 'to', '_learn', 'how', 'it', '_works', 'on', '#', 'simple', '#', 'data', '.']]\n"
     ]
    }
   ],
   "source": [
    "print(raw_docs_word)"
   ]
  },
  {
   "cell_type": "code",
   "execution_count": 8,
   "metadata": {},
   "outputs": [],
   "source": [
    "raw_docs_sent=[sent_tokenize(sent) for sent in raw_docs]"
   ]
  },
  {
   "cell_type": "code",
   "execution_count": 9,
   "metadata": {},
   "outputs": [
    {
     "name": "stdout",
     "output_type": "stream",
     "text": [
      "[['i am writing very basic english sentenses'], [\"i'm just writing for demo purpose to make audiance understand the basics.\"], ['the point is to _learn how it _works on #simple # data.']]\n"
     ]
    }
   ],
   "source": [
    "print(raw_docs_sent)"
   ]
  },
  {
   "cell_type": "markdown",
   "metadata": {},
   "source": [
    "### Removing Punctuation"
   ]
  },
  {
   "cell_type": "code",
   "execution_count": 10,
   "metadata": {},
   "outputs": [],
   "source": [
    "import re"
   ]
  },
  {
   "cell_type": "code",
   "execution_count": 11,
   "metadata": {},
   "outputs": [],
   "source": [
    "regex=re.compile('[%s]' % re.escape(string.punctuation))"
   ]
  },
  {
   "cell_type": "code",
   "execution_count": 12,
   "metadata": {},
   "outputs": [
    {
     "name": "stdout",
     "output_type": "stream",
     "text": [
      "['i', 'am', 'writing', 'very', 'basic', 'english', 'sentenses', 'i', 'm', 'just', 'writing', 'for', 'demo', 'purpose', 'to', 'make', 'audiance', 'understand', 'the', 'basics', '', 'the', 'point', 'is', 'to', 'learn', 'how', 'it', 'works', 'on', '', 'simple', '', 'data', '']\n"
     ]
    }
   ],
   "source": [
    "no_punct=[]\n",
    "for words in raw_docs_word:   \n",
    "    for word in words:\n",
    "        no_punct.append(regex.sub(u'',word))\n",
    "print(no_punct)\n"
   ]
  },
  {
   "cell_type": "markdown",
   "metadata": {},
   "source": [
    "### Removing Stopwords"
   ]
  },
  {
   "cell_type": "code",
   "execution_count": 13,
   "metadata": {},
   "outputs": [],
   "source": [
    "from nltk.corpus import stopwords"
   ]
  },
  {
   "cell_type": "code",
   "execution_count": 14,
   "metadata": {},
   "outputs": [
    {
     "name": "stdout",
     "output_type": "stream",
     "text": [
      "['writing', 'basic', 'english', 'sentenses', 'writing', 'demo', 'purpose', 'make', 'audiance', 'understand', 'basics', '', 'point', 'learn', 'works', '', 'simple', '', 'data', '']\n"
     ]
    }
   ],
   "source": [
    "no_stop_words=[]\n",
    "for word in no_punct:\n",
    "    if word not in set(stopwords.words('english')):\n",
    "        no_stop_words.append(word)\n",
    "print(no_stop_words)"
   ]
  },
  {
   "cell_type": "markdown",
   "metadata": {},
   "source": [
    "### Stemming"
   ]
  },
  {
   "cell_type": "code",
   "execution_count": 15,
   "metadata": {},
   "outputs": [],
   "source": [
    "from nltk.stem import PorterStemmer"
   ]
  },
  {
   "cell_type": "code",
   "execution_count": 16,
   "metadata": {},
   "outputs": [],
   "source": [
    "ps=PorterStemmer()"
   ]
  },
  {
   "cell_type": "code",
   "execution_count": 17,
   "metadata": {},
   "outputs": [],
   "source": [
    "stemmed_words=[ps.stem(word) for word in no_stop_words ]"
   ]
  },
  {
   "cell_type": "code",
   "execution_count": 18,
   "metadata": {},
   "outputs": [
    {
     "name": "stdout",
     "output_type": "stream",
     "text": [
      "['write', 'basic', 'english', 'sentens', 'write', 'demo', 'purpos', 'make', 'audianc', 'understand', 'basic', '', 'point', 'learn', 'work', '', 'simpl', '', 'data', '']\n"
     ]
    }
   ],
   "source": [
    "print(stemmed_words)"
   ]
  },
  {
   "cell_type": "markdown",
   "metadata": {},
   "source": [
    "### Lemmitization"
   ]
  },
  {
   "cell_type": "code",
   "execution_count": 19,
   "metadata": {},
   "outputs": [],
   "source": [
    "from nltk.stem import WordNetLemmatizer"
   ]
  },
  {
   "cell_type": "code",
   "execution_count": 20,
   "metadata": {},
   "outputs": [],
   "source": [
    "wordnetlemm=WordNetLemmatizer()"
   ]
  },
  {
   "cell_type": "code",
   "execution_count": 23,
   "metadata": {},
   "outputs": [],
   "source": [
    "lemmetized_words=[wordnetlemm.lemmatize(word) for word in stemmed_words ]"
   ]
  },
  {
   "cell_type": "code",
   "execution_count": 24,
   "metadata": {},
   "outputs": [
    {
     "name": "stdout",
     "output_type": "stream",
     "text": [
      "['write', 'basic', 'english', 'sentens', 'write', 'demo', 'purpos', 'make', 'audianc', 'understand', 'basic', '', 'point', 'learn', 'work', '', 'simpl', '', 'data', '']\n"
     ]
    }
   ],
   "source": [
    "print(lemmetized_words)"
   ]
  },
  {
   "cell_type": "markdown",
   "metadata": {},
   "source": [
    "### Advance Clearning Technique-Normalization"
   ]
  },
  {
   "cell_type": "code",
   "execution_count": 33,
   "metadata": {},
   "outputs": [],
   "source": [
    "text='Today 10th June 2020,G.O.I has around 2 Lakh cases of Corona. M.H has highest numbers !'"
   ]
  },
  {
   "cell_type": "code",
   "execution_count": 34,
   "metadata": {},
   "outputs": [],
   "source": [
    "from normalise import normalise"
   ]
  },
  {
   "cell_type": "code",
   "execution_count": 35,
   "metadata": {},
   "outputs": [],
   "source": [
    "# pip install normalise\n",
    "# nltk.download('brown')\n",
    "# nltk.download('names')\n",
    "#nltk.download('universal_tagset')"
   ]
  },
  {
   "cell_type": "code",
   "execution_count": 36,
   "metadata": {},
   "outputs": [],
   "source": [
    "custom_abbr={'G.O.I':'Government of India',\n",
    "             'M.H':'Maharastra'}"
   ]
  },
  {
   "cell_type": "code",
   "execution_count": 47,
   "metadata": {},
   "outputs": [],
   "source": [
    "normalized_tokens=normalise(word_tokenize(text),user_abbrevs=custom_abbr,verbose=False)"
   ]
  },
  {
   "cell_type": "code",
   "execution_count": 48,
   "metadata": {},
   "outputs": [
    {
     "data": {
      "text/plain": [
       "['Today',\n",
       " 'the tenth of',\n",
       " 'June',\n",
       " 'twenty twenty',\n",
       " ',',\n",
       " 'Government of India',\n",
       " 'has',\n",
       " 'around',\n",
       " 'two',\n",
       " 'Lakh',\n",
       " 'cases',\n",
       " 'of',\n",
       " 'Corona',\n",
       " '.',\n",
       " 'Maharastra',\n",
       " 'has',\n",
       " 'highest',\n",
       " 'numbers',\n",
       " '!']"
      ]
     },
     "execution_count": 48,
     "metadata": {},
     "output_type": "execute_result"
    }
   ],
   "source": [
    "normalized_tokens"
   ]
  },
  {
   "cell_type": "code",
   "execution_count": null,
   "metadata": {},
   "outputs": [],
   "source": []
  },
  {
   "cell_type": "code",
   "execution_count": null,
   "metadata": {},
   "outputs": [],
   "source": []
  }
 ],
 "metadata": {
  "kernelspec": {
   "display_name": "Python 3",
   "language": "python",
   "name": "python3"
  },
  "language_info": {
   "codemirror_mode": {
    "name": "ipython",
    "version": 3
   },
   "file_extension": ".py",
   "mimetype": "text/x-python",
   "name": "python",
   "nbconvert_exporter": "python",
   "pygments_lexer": "ipython3",
   "version": "3.7.3"
  }
 },
 "nbformat": 4,
 "nbformat_minor": 4
}
